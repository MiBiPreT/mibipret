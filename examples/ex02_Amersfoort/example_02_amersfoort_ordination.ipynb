{
 "cells": [
  {
   "cell_type": "markdown",
   "id": "4d35df26-33db-4d65-9d69-169861d27296",
   "metadata": {},
   "source": [
    "# MiBiPreT example: Ordination plots using Amersfoort data\n",
    "\n",
    "Diagnostic plots for data analysis on microbial biodegredation at the contaminant Amersfoort site. \n",
    "\n",
    "Data based on the PhD thesis of *Johan van Leeuwen*, 2021 'Biodegredation of mono- and polyaromatic hydrocarbons in a contaminated aquifer originating from a former Pintsch gas factory site'\n",
    "\n",
    "which is equivalent to the manuscript of van Leeuwen et al., 2022 'Anaerobic degradation of benzene and other aromatic hydrocarbons in a \n",
    "tar-derived plume: Nitrate versus iron reducing conditions', J. of Cont. Hydrol\n",
    "  \n",
    "The data was provided by Johan van Leeuwen.\n",
    "  \n",
    "\n",
    "## Background: Amersfoort contaminant site\n",
    "\n",
    "Text to be added."
   ]
  },
  {
   "cell_type": "code",
   "execution_count": null,
   "id": "76978d22-5cd0-4144-a27d-42b430bfba9f",
   "metadata": {},
   "outputs": [],
   "source": []
  }
 ],
 "metadata": {
  "kernelspec": {
   "display_name": "Python 3 (ipykernel)",
   "language": "python",
   "name": "python3"
  },
  "language_info": {
   "codemirror_mode": {
    "name": "ipython",
    "version": 3
   },
   "file_extension": ".py",
   "mimetype": "text/x-python",
   "name": "python",
   "nbconvert_exporter": "python",
   "pygments_lexer": "ipython3",
   "version": "3.12.5"
  }
 },
 "nbformat": 4,
 "nbformat_minor": 5
}
