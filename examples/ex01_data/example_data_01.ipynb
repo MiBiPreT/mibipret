{
 "cells": [
  {
   "cell_type": "markdown",
   "id": "1f3bd253-6c5c-476e-9f5c-66c3cd95a917",
   "metadata": {},
   "source": [
    "# MiBiPreT data analysis example"
   ]
  },
  {
   "cell_type": "code",
   "execution_count": 1,
   "id": "0e76b1ee-1489-4555-ae2e-de25c83062ae",
   "metadata": {},
   "outputs": [],
   "source": [
    "#!pip install mibipret"
   ]
  },
  {
   "cell_type": "code",
   "execution_count": 2,
   "id": "469da207-3ff5-41f9-8714-a36d4969e887",
   "metadata": {},
   "outputs": [],
   "source": [
    "import sys\n",
    "path = '/home/alraune/GitHub/MiBiPreT/mibipret'\n",
    "sys.path.append(path) # append the path to module"
   ]
  },
  {
   "cell_type": "code",
   "execution_count": 3,
   "id": "0189b936-3d5a-4173-9bab-9cc1b4ee58aa",
   "metadata": {},
   "outputs": [],
   "source": [
    "from mibipret.data.data import load_csv, check_columns, check_units, check_values, standardize"
   ]
  },
  {
   "cell_type": "code",
   "execution_count": 4,
   "id": "41046747-d157-41a0-afa6-3947099a0a9e",
   "metadata": {},
   "outputs": [],
   "source": [
    "file_path = './grift_BTEXNII.csv'\n",
    "file_standard = './grift_BTEXNII_standard.csv'\n"
   ]
  },
  {
   "cell_type": "code",
   "execution_count": 5,
   "id": "fca03c8c-c5de-4cb1-ba5b-47f2341b85bb",
   "metadata": {},
   "outputs": [
    {
     "name": "stdout",
     "output_type": "stream",
     "text": [
      "==============================================================\n",
      "Unit of quantities:\n",
      "-------------------\n",
      "  sample nr obs_well well type Depth  pH  EC Redox  pE  NPOC sulfate  ...  \\\n",
      "0       NaN      NaN       NaN     m NaN NaN    mV NaN  mg/L    mg/L  ...   \n",
      "\n",
      "  O Xylene Cumene Propylbenzene M-Ethyltoluene O-Ethyltoluene  \\\n",
      "0     ug/L   ug/L          ug/L           ug/L           ug/L   \n",
      "\n",
      "  1,2,4-Trimethylbenzene 1,2,3-Trimethylbenzene Indane Indene Naphthalene  \n",
      "0                   ug/L                   ug/L   ug/L   ug/L        ug/L  \n",
      "\n",
      "[1 rows x 29 columns]\n",
      "==============================================================\n",
      "Loaded data as pandas DataFrame:\n",
      "--------------------------------\n",
      "       sample nr           obs_well  well type      Depth    pH      EC Redox  \\\n",
      "0            NaN                NaN        NaN          m   NaN     NaN    mV   \n",
      "1   2019-031-001        A-32mm-52,5  dsn 32 mm      -52.5  7.31  1498.0  -197   \n",
      "2   2019-031-002        A-32mm-65,5  dsn 32 mm      -65.5  7.35  1478.0  -205   \n",
      "3   2019-031-009        B-MLS1-3-12      MLS-1        -12  7.23  1339.0  -208   \n",
      "4   2019-031-011      B-MLS1-5-15,5      MLS-1      -15.5  7.67  1251.0  -231   \n",
      "5   2019-031-012        B-MLS1-6-17      MLS-1        -17  7.75  1565.0  -252   \n",
      "6   2019-031-013        B-MLS1-7-19      MLS-1        -19  7.53  1618.0  -317   \n",
      "7   2019-031-014      B-MLS2-1-20,5      MLS-2      -20.5  7.34  1594.0  -329   \n",
      "8   2019-031-018        B-MLS2-5-28      MLS-2        -28  7.25  1498.0  -362   \n",
      "9   2019-031-020        B-MLS2-7-31      MLS-2        -31  7.21  1555.0  -571   \n",
      "10  2019-031-004        B-32mm44-45  dsn 32 mm        -45  7.54  1462.0  -187   \n",
      "11  2019-031-006       B-32mm-63-64  dsn 32 mm        -64  7.39   726.0  -175   \n",
      "12  2019-031-029        B2-MLS1-1-7      MLS-1         -7  7.09  1419.0  -264   \n",
      "13  2019-031-031     B2-MLS1-3-10,5      MLS-1      -10.5  7.00  1308.0  -253   \n",
      "14  2019-031-033       B2-MLS1-5-14      MLS-1        -14  7.00  1151.0  -292   \n",
      "15  2019-031-034     B2-MLS1-6-15,5      MLS-1      -15.5  7.08  1269.0  -244   \n",
      "16  2019-031-036       B2-MLS2-1-20      MLS-2        -20  7.31  1233.0  -227   \n",
      "17  2019-031-039       B2-MLS2-4-43      MLS-2        -43  7.19  1314.0  -183   \n",
      "18  2019-031-028  B2-32mm-64,5-65,5  dsn 40 mm      -65.5  7.66  1310.0  -227   \n",
      "19  2019-031-048      C-MLS1-1-15,5      MLS-1      -15.5  7.70  1380.0  -336   \n",
      "20  2019-031-050        C-MLS1-3-19      MLS-1        -19  7.48  1435.0  -277   \n",
      "21  2019-031-054        C-MLS1-7-26      MLS-1        -26  7.33  1409.0  -314   \n",
      "22  2019-031-044     C-32mm-38,5-39  dsn 32 mm        -39  8.26   811.0  -334   \n",
      "23  2019-031-047     C-32mm-45,5-46  dsn 32 mm        -46  7.52  1659.0  -230   \n",
      "24  2019-031-059                Pb1        NaN  14,0-19,0  7.25  1563.0  -182   \n",
      "25  2019-031-062                 60        NaN  68,0-72,0  7.31   781.0  -129   \n",
      "26  2019-031-063              BW205        NaN  43,0-45,0  7.29  1051.0  -125   \n",
      "\n",
      "        pE   NPOC   sulfate  ... O Xylene Cumene Propylbenzene M-Ethyltoluene  \\\n",
      "0      NaN   mg/L      mg/L  ...     ug/L   ug/L          ug/L           ug/L   \n",
      "1   3.3293      6       203  ...        3      0             0              0   \n",
      "2   3.4645      7       166  ...        5      1             0              1   \n",
      "3   3.5152     19        23  ...       51    104            14              0   \n",
      "4   3.9039     20         0  ...      253    101            20            144   \n",
      "5   4.2588     16         1  ...      214     89            28             83   \n",
      "6   5.3573     13         9  ...       61     93            39             17   \n",
      "7   5.5601     12         5  ...       78     94            44              5   \n",
      "8   6.1178      9        79  ...       72     56            22             14   \n",
      "9   9.6499      8       127  ...        3      8             1              0   \n",
      "10  3.1603      7       237  ...        1      0             0              0   \n",
      "11  2.9575      4        39  ...        0      0             0              0   \n",
      "12  4.4616     19       176  ...      104     45            25            128   \n",
      "13  4.2757     15        42  ...        2     19            22              0   \n",
      "14  4.9348     18        88  ...      324     99            26            171   \n",
      "15  4.1236     13       136  ...        8     32             9             16   \n",
      "16  3.8363      5       169  ...        0      0             0              0   \n",
      "17  3.0927      5       141  ...        2      0             0              0   \n",
      "18  3.8363      5       209  ...        5      1             0              1   \n",
      "19  5.6784    NaN        11  ...      437     37             5             74   \n",
      "20  4.6813    NaN         0  ...      337     31             5            119   \n",
      "21  5.3066    NaN        14  ...      399     56             9             93   \n",
      "22  5.6446    NaN        10  ...      275     13             3             55   \n",
      "23  3.8870    NaN        28  ...      506     37             5            232   \n",
      "24  3.0758  7.129  261.8531  ...      6.1    1.2           0.6            0.4   \n",
      "25  2.1801  4.535   25.6088  ...      0.5    0.1           0.1            0.1   \n",
      "26  2.1125  5.181      0.34  ...      0.6    0.3           0.2            0.1   \n",
      "\n",
      "   O-Ethyltoluene 1,2,4-Trimethylbenzene 1,2,3-Trimethylbenzene Indane Indene  \\\n",
      "0            ug/L                   ug/L                   ug/L   ug/L   ug/L   \n",
      "1               0                      1                      1      6      3   \n",
      "2               0                      2                      1     12      3   \n",
      "3              91                    196                    121   1254     41   \n",
      "4              61                    314                    147   1352     15   \n",
      "5              59                    284                    134   1031     31   \n",
      "6              66                    278                    130    814     59   \n",
      "7              75                    213                    112    617     90   \n",
      "8              41                    169                     80    101    290   \n",
      "9               7                      4                      2      6     27   \n",
      "10              0                      0                      0      1      1   \n",
      "11              0                      0                      0      2      0   \n",
      "12             39                    319                    145     86    944   \n",
      "13             18                      1                     49    158      7   \n",
      "14             61                    367                    177    416   1126   \n",
      "15             30                     16                     12     57     28   \n",
      "16              0                      1                      0      2      1   \n",
      "17              0                      1                      0      1      3   \n",
      "18              0                      2                      1     12      3   \n",
      "19             20                    133                     67   1059     45   \n",
      "20             35                    139                     67   1602      3   \n",
      "21             35                    202                     98   1185    194   \n",
      "22             17                     85                     43    425    645   \n",
      "23             31                    138                     70   1343    115   \n",
      "24            0.8                      5                    2.8   40.1     22   \n",
      "25              0                    0.2                    0.2    1.1    0.9   \n",
      "26            0.1                    0.3                    0.2    1.4      1   \n",
      "\n",
      "   Naphthalene  \n",
      "0         ug/L  \n",
      "1           38  \n",
      "2           69  \n",
      "3         2207  \n",
      "4         5410  \n",
      "5         3879  \n",
      "6         1970  \n",
      "7          626  \n",
      "8          745  \n",
      "9           12  \n",
      "10          13  \n",
      "11          10  \n",
      "12        7168  \n",
      "13          21  \n",
      "14        5693  \n",
      "15         229  \n",
      "16          12  \n",
      "17          16  \n",
      "18          69  \n",
      "19        4797  \n",
      "20        7626  \n",
      "21        5584  \n",
      "22        3122  \n",
      "23        5676  \n",
      "24        51.1  \n",
      "25         8.7  \n",
      "26        11.9  \n",
      "\n",
      "[27 rows x 29 columns]\n"
     ]
    }
   ],
   "source": [
    "data,units = load_csv(file_path,verbose=True)"
   ]
  },
  {
   "cell_type": "code",
   "execution_count": 6,
   "id": "d20401ea-8d13-43de-8c3d-b3086a777f6a",
   "metadata": {},
   "outputs": [
    {
     "name": "stdout",
     "output_type": "stream",
     "text": [
      "==============================================================\n",
      "23 quantities identified in provided data.\n",
      "These need to be renamed to standard names:\n",
      "-------------------------------------------\n",
      "sample nr  -->  sample_nr\n",
      "obs_well  -->  obs_well\n",
      "well type  -->  well_type\n",
      "Depth  -->  depth\n",
      "pH  -->  pH\n",
      "EC  -->  EC\n",
      "Redox  -->  redoxpot\n",
      "pE  -->  pE\n",
      "NPOC  -->  NOPC\n",
      "sulfate  -->  sulfate\n",
      "ammonium  -->  ammonium\n",
      "sulfide  -->  sulfide\n",
      "methane  -->  methane\n",
      "Fe II  -->  ironII\n",
      "Mn  -->  manganese\n",
      "Benzene  -->  benzene\n",
      "Toluene  -->  toluene\n",
      "Ethylbenzene  -->  ethylbenzene\n",
      "P/M Xylene  -->  pm_xylene\n",
      "O Xylene  -->  o_xylene\n",
      "Indane  -->  indane\n",
      "Indene  -->  indene\n",
      "Naphthalene  -->  naphthalene\n",
      "\n",
      "Renaming of column names by running standardize().\n",
      "==============================================================\n",
      "6 quantities have not bee identified in provided data:\n",
      "-------------------------------------------------------\n",
      "Cumene\n",
      "Propylbenzene\n",
      "M-Ethyltoluene\n",
      "O-Ethyltoluene\n",
      "1,2,4-Trimethylbenzene\n",
      "1,2,3-Trimethylbenzene\n",
      "\n",
      "Quantities to be checked on column names: \n",
      " ['Cumene', 'Propylbenzene', 'M-Ethyltoluene', 'O-Ethyltoluene', '1,2,4-Trimethylbenzene', '1,2,3-Trimethylbenzene']\n"
     ]
    }
   ],
   "source": [
    "column_names_known,column_names_unknown,column_names_standard = check_columns(data, verbose = True)\n",
    "print(\"\\nQuantities to be checked on column names: \\n\",column_names_unknown)"
   ]
  },
  {
   "cell_type": "code",
   "execution_count": 7,
   "id": "4f81bd28-4d17-4fe2-a75b-f6afe5a0cba6",
   "metadata": {},
   "outputs": [
    {
     "name": "stdout",
     "output_type": "stream",
     "text": [
      "==============================================================\n",
      "All identified quantities given in requested units.\n",
      "\n",
      "Quantities to be checked on units: \n",
      " []\n"
     ]
    }
   ],
   "source": [
    "check_list = check_units(data, verbose = True)\n",
    "print(\"\\nQuantities to be checked on units: \\n\",check_list)"
   ]
  },
  {
   "cell_type": "code",
   "execution_count": 8,
   "id": "68d3ad7a-880b-440e-b8a0-f6de99c33fd9",
   "metadata": {},
   "outputs": [
    {
     "name": "stdout",
     "output_type": "stream",
     "text": [
      "==============================================================\n",
      "WARNING: First row identified as units, has been removed for value check\n",
      "==============================================================\n",
      "WARNING: Cound not transform 'depth' to numerical values\n",
      "==============================================================\n",
      "Quantities with values transformed to numerical(int/float):\n",
      "-----------------------------------------------------------\n",
      "redoxpot\n",
      "pH\n",
      "EC\n",
      "pE\n",
      "NOPC\n",
      "sulfate\n",
      "sulfide\n",
      "ammonium\n",
      "methane\n",
      "ironII\n",
      "manganese\n",
      "benzene\n",
      "toluene\n",
      "ethylbenzene\n",
      "pm_xylene\n",
      "o_xylene\n",
      "indane\n",
      "indene\n",
      "naphthalene\n"
     ]
    }
   ],
   "source": [
    "data_pure = check_values(data, verbose = True)"
   ]
  },
  {
   "cell_type": "code",
   "execution_count": 9,
   "id": "97ceb9f5-39b9-4ecf-ac87-69d38b4f6e55",
   "metadata": {},
   "outputs": [
    {
     "name": "stdout",
     "output_type": "stream",
     "text": [
      "==============================================================\n",
      "23 quantities identified and renamed:\n",
      "-------------------------------------\n",
      "sample nr  -->  sample_nr\n",
      "obs_well  -->  obs_well\n",
      "well type  -->  well_type\n",
      "Depth  -->  depth\n",
      "pH  -->  pH\n",
      "EC  -->  EC\n",
      "Redox  -->  redoxpot\n",
      "pE  -->  pE\n",
      "NPOC  -->  NOPC\n",
      "sulfate  -->  sulfate\n",
      "ammonium  -->  ammonium\n",
      "sulfide  -->  sulfide\n",
      "methane  -->  methane\n",
      "Fe II  -->  ironII\n",
      "Mn  -->  manganese\n",
      "Benzene  -->  benzene\n",
      "Toluene  -->  toluene\n",
      "Ethylbenzene  -->  ethylbenzene\n",
      "P/M Xylene  -->  pm_xylene\n",
      "O Xylene  -->  o_xylene\n",
      "Indane  -->  indane\n",
      "Indene  -->  indene\n",
      "Naphthalene  -->  naphthalene\n",
      "==============================================================\n",
      "6 quantities not identified (and removed) from data:\n",
      "-----------------------------------------------------\n",
      "Cumene\n",
      "Propylbenzene\n",
      "M-Ethyltoluene\n",
      "O-Ethyltoluene\n",
      "1,2,4-Trimethylbenzene\n",
      "1,2,3-Trimethylbenzene\n",
      "==============================================================\n",
      "All identified quantities given in requested units.\n",
      "==============================================================\n",
      "WARNING: Cound not transform 'depth' to numerical values\n",
      "==============================================================\n",
      "Quantities with values transformed to numerical(int/float):\n",
      "-----------------------------------------------------------\n",
      "redoxpot\n",
      "pH\n",
      "EC\n",
      "pE\n",
      "NOPC\n",
      "sulfate\n",
      "sulfide\n",
      "ammonium\n",
      "methane\n",
      "ironII\n",
      "manganese\n",
      "benzene\n",
      "toluene\n",
      "ethylbenzene\n",
      "pm_xylene\n",
      "o_xylene\n",
      "indane\n",
      "indene\n",
      "naphthalene\n",
      "==============================================================\n",
      "Save standardized dataframe to file:\n",
      " ./grift_BTEXNII_standard.csv\n"
     ]
    }
   ],
   "source": [
    "data_standard,units = standardize(data,reduce = True, store_csv=file_standard,  verbose=True)\n"
   ]
  },
  {
   "cell_type": "code",
   "execution_count": 10,
   "id": "23a61b6f-bfc9-4181-ae6c-26ecad423f20",
   "metadata": {},
   "outputs": [
    {
     "name": "stdout",
     "output_type": "stream",
     "text": [
      "==============================================================\n",
      "WARNING: Cound not transform 'depth' to numerical values\n"
     ]
    }
   ],
   "source": [
    "data_standard,units = standardize(data,reduce = True, verbose=False)"
   ]
  },
  {
   "cell_type": "code",
   "execution_count": null,
   "id": "484dc7d4-6eaf-48de-9c30-6950e12f9c43",
   "metadata": {},
   "outputs": [],
   "source": []
  }
 ],
 "metadata": {
  "kernelspec": {
   "display_name": "Python 3 (ipykernel)",
   "language": "python",
   "name": "python3"
  },
  "language_info": {
   "codemirror_mode": {
    "name": "ipython",
    "version": 3
   },
   "file_extension": ".py",
   "mimetype": "text/x-python",
   "name": "python",
   "nbconvert_exporter": "python",
   "pygments_lexer": "ipython3",
   "version": "3.10.12"
  }
 },
 "nbformat": 4,
 "nbformat_minor": 5
}
